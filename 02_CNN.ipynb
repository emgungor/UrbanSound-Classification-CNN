{
 "cells": [
  {
   "cell_type": "markdown",
   "metadata": {},
   "source": [
    "# Dataset Information\n",
    "This datasets contains 8732 labeled sounds of Urban Sounds from 10 classes:\n",
    "\n",
    "0 = air_conditioner\n",
    "1 = car_horn\n",
    "2 = children_playing\n",
    "3 = dog_bark\n",
    "4 = drilling\n",
    "5 = engine_idling\n",
    "6 = gun_shot\n",
    "7 = jackhammer\n",
    "8 = siren\n",
    "9 = street_music"
   ]
  },
  {
   "cell_type": "code",
   "execution_count": 1,
   "metadata": {
    "colab": {
     "base_uri": "https://localhost:8080/"
    },
    "id": "vy2AGIrJ5IRQ",
    "outputId": "a32546fe-2cc7-4e04-ca43-c99cd1564f76"
   },
   "outputs": [
    {
     "name": "stdout",
     "output_type": "stream",
     "text": [
      "Mounted at /content/drive\n"
     ]
    }
   ],
   "source": [
    "from google.colab import drive\n",
    "drive.mount('/content/drive')"
   ]
  },
  {
   "cell_type": "code",
   "execution_count": 2,
   "metadata": {
    "id": "hZ1bQTly2AT0"
   },
   "outputs": [],
   "source": [
    "# Load the datasets\n",
    "\n",
    "import numpy as np\n",
    "X_train=np.load('/content/drive/MyDrive/Colab_Notebooks/UrbanSound/X_train.npy')\n",
    "y_train=np.load('/content/drive/MyDrive/Colab_Notebooks/UrbanSound/y_train.npy')\n",
    "X_val=np.load('/content/drive/MyDrive/Colab_Notebooks/UrbanSound/X_val.npy')\n",
    "y_val=np.load('/content/drive/MyDrive/Colab_Notebooks/UrbanSound/y_val.npy')\n",
    "X_test=np.load('/content/drive/MyDrive/Colab_Notebooks/UrbanSound/X_test.npy')\n",
    "y_test=np.load('/content/drive/MyDrive/Colab_Notebooks/UrbanSound/y_test.npy')"
   ]
  },
  {
   "cell_type": "code",
   "execution_count": 3,
   "metadata": {
    "colab": {
     "base_uri": "https://localhost:8080/"
    },
    "id": "l-HOuLP_sXWR",
    "outputId": "cdefe4b4-bc60-455b-8648-f12648687dbd"
   },
   "outputs": [
    {
     "data": {
      "text/plain": [
       "(6985, 100, 100, 1)"
      ]
     },
     "execution_count": 3,
     "metadata": {},
     "output_type": "execute_result"
    }
   ],
   "source": [
    "X_train.shape"
   ]
  },
  {
   "cell_type": "code",
   "execution_count": 4,
   "metadata": {
    "colab": {
     "base_uri": "https://localhost:8080/"
    },
    "id": "1KEpzh4ftSmV",
    "outputId": "1229f8e0-18ae-4049-d737-2518d3ce7a90"
   },
   "outputs": [
    {
     "data": {
      "text/plain": [
       "array([[[1.        ],\n",
       "        [0.00392157],\n",
       "        [0.00392157],\n",
       "        ...,\n",
       "        [0.00392157],\n",
       "        [0.00392157],\n",
       "        [0.00392157]],\n",
       "\n",
       "       [[1.        ],\n",
       "        [0.00392157],\n",
       "        [0.00392157],\n",
       "        ...,\n",
       "        [0.00392157],\n",
       "        [0.00392157],\n",
       "        [0.00392157]],\n",
       "\n",
       "       [[1.        ],\n",
       "        [0.00392157],\n",
       "        [0.00392157],\n",
       "        ...,\n",
       "        [0.00392157],\n",
       "        [0.00392157],\n",
       "        [0.00392157]],\n",
       "\n",
       "       ...,\n",
       "\n",
       "       [[1.        ],\n",
       "        [0.33333333],\n",
       "        [0.45882353],\n",
       "        ...,\n",
       "        [0.40392157],\n",
       "        [0.4627451 ],\n",
       "        [0.40392157]],\n",
       "\n",
       "       [[1.        ],\n",
       "        [0.27843137],\n",
       "        [0.2745098 ],\n",
       "        ...,\n",
       "        [0.29803922],\n",
       "        [0.32156863],\n",
       "        [0.2745098 ]],\n",
       "\n",
       "       [[1.        ],\n",
       "        [1.        ],\n",
       "        [1.        ],\n",
       "        ...,\n",
       "        [1.        ],\n",
       "        [1.        ],\n",
       "        [1.        ]]])"
      ]
     },
     "execution_count": 4,
     "metadata": {},
     "output_type": "execute_result"
    }
   ],
   "source": [
    "X_test[789]"
   ]
  },
  {
   "cell_type": "code",
   "execution_count": 5,
   "metadata": {
    "id": "Wtd1arry3UJA"
   },
   "outputs": [],
   "source": [
    "# Imports\n",
    "\n",
    "from keras.models import Sequential\n",
    "from keras.layers import Dense,Flatten,Dropout,BatchNormalization,Activation\n",
    "from keras.layers import Conv2D,MaxPooling2D\n",
    "from keras.callbacks import ModelCheckpoint"
   ]
  },
  {
   "cell_type": "code",
   "execution_count": 6,
   "metadata": {
    "id": "4lV3Q2NY3mXz"
   },
   "outputs": [],
   "source": [
    "# Create a model object\n",
    "\n",
    "model=Sequential()"
   ]
  },
  {
   "cell_type": "code",
   "execution_count": 7,
   "metadata": {
    "id": "bZG7W6I-3q2A"
   },
   "outputs": [],
   "source": [
    "# Add the dense layer and dropout layer\n",
    "\n",
    "model.add(Conv2D(32,(3,3),input_shape=X_train.shape[1:]))\n",
    "model.add(Activation('relu'))\n",
    "model.add(BatchNormalization())\n",
    "model.add(MaxPooling2D(pool_size=(2,2)))\n",
    "\n",
    "model.add(Conv2D(32,(3,3)))\n",
    "model.add(Activation('relu'))\n",
    "model.add(BatchNormalization())\n",
    "model.add(MaxPooling2D(pool_size=(2,2)))\n",
    "\n",
    "model.add(Conv2D(32,(3,3)))\n",
    "model.add(Activation('relu'))\n",
    "model.add(BatchNormalization())\n",
    "model.add(MaxPooling2D(pool_size=(2,2)))\n",
    "\n",
    "model.add(Conv2D(32,(3,3)))\n",
    "model.add(Activation('relu'))\n",
    "model.add(BatchNormalization())\n",
    "model.add(MaxPooling2D(pool_size=(2,2)))\n",
    "\n",
    "model.add(Conv2D(32,(3,3)))\n",
    "model.add(Activation('relu'))\n",
    "model.add(BatchNormalization())\n",
    "model.add(MaxPooling2D(pool_size=(2,2)))"
   ]
  },
  {
   "cell_type": "code",
   "execution_count": 8,
   "metadata": {
    "id": "w3_f-ZBq39Nq"
   },
   "outputs": [],
   "source": [
    "# Flatten the convolution layer\n",
    "model.add(Flatten())\n",
    "model.add(Dropout(0.5))\n",
    "\n",
    "# Add the dense layer and dropout layer\n",
    "model.add(Dense(64,activation='relu'))\n",
    "\n",
    "# Add the output layer\n",
    "model.add(BatchNormalization())\n",
    "model.add(Dense(10,activation='softmax'))\n"
   ]
  },
  {
   "cell_type": "code",
   "execution_count": 9,
   "metadata": {
    "id": "7-iR5DTj4Ba4"
   },
   "outputs": [],
   "source": [
    "# Compile the model\n",
    "\n",
    "model.compile(loss='categorical_crossentropy',optimizer='adam',metrics=['accuracy'])"
   ]
  },
  {
   "cell_type": "code",
   "execution_count": 10,
   "metadata": {
    "colab": {
     "base_uri": "https://localhost:8080/"
    },
    "id": "po_4SJD-4MKs",
    "outputId": "36da4514-8e99-4520-902c-612ba1ed664a"
   },
   "outputs": [
    {
     "name": "stdout",
     "output_type": "stream",
     "text": [
      "Epoch 1/200\n",
      "219/219 [==============================] - 16s 16ms/step - loss: 1.9204 - accuracy: 0.3287 - val_loss: 3.2929 - val_accuracy: 0.1432\n",
      "Epoch 2/200\n",
      "219/219 [==============================] - 3s 15ms/step - loss: 1.4645 - accuracy: 0.4812 - val_loss: 2.7861 - val_accuracy: 0.2348\n",
      "Epoch 3/200\n",
      "219/219 [==============================] - 3s 14ms/step - loss: 1.2616 - accuracy: 0.5469 - val_loss: 1.2067 - val_accuracy: 0.5510\n",
      "Epoch 4/200\n",
      "219/219 [==============================] - 3s 15ms/step - loss: 1.1514 - accuracy: 0.5916 - val_loss: 0.9281 - val_accuracy: 0.6712\n",
      "Epoch 5/200\n",
      "219/219 [==============================] - 3s 14ms/step - loss: 1.0395 - accuracy: 0.6342 - val_loss: 0.9096 - val_accuracy: 0.6724\n",
      "Epoch 6/200\n",
      "219/219 [==============================] - 3s 15ms/step - loss: 0.9767 - accuracy: 0.6673 - val_loss: 1.2894 - val_accuracy: 0.5441\n",
      "Epoch 7/200\n",
      "219/219 [==============================] - 3s 14ms/step - loss: 0.9090 - accuracy: 0.6889 - val_loss: 0.7498 - val_accuracy: 0.7388\n",
      "Epoch 8/200\n",
      "219/219 [==============================] - 3s 14ms/step - loss: 0.8621 - accuracy: 0.7042 - val_loss: 0.8251 - val_accuracy: 0.7113\n",
      "Epoch 9/200\n",
      "219/219 [==============================] - 3s 14ms/step - loss: 0.7778 - accuracy: 0.7384 - val_loss: 0.9991 - val_accuracy: 0.6564\n",
      "Epoch 10/200\n",
      "219/219 [==============================] - 3s 14ms/step - loss: 0.7257 - accuracy: 0.7556 - val_loss: 0.8022 - val_accuracy: 0.7549\n",
      "Epoch 11/200\n",
      "219/219 [==============================] - 3s 14ms/step - loss: 0.7108 - accuracy: 0.7626 - val_loss: 1.4488 - val_accuracy: 0.5785\n",
      "Epoch 12/200\n",
      "219/219 [==============================] - 3s 14ms/step - loss: 0.6701 - accuracy: 0.7792 - val_loss: 0.9020 - val_accuracy: 0.6976\n",
      "Epoch 13/200\n",
      "219/219 [==============================] - 3s 14ms/step - loss: 0.5953 - accuracy: 0.8019 - val_loss: 0.7174 - val_accuracy: 0.7686\n",
      "Epoch 14/200\n",
      "219/219 [==============================] - 3s 15ms/step - loss: 0.5896 - accuracy: 0.8072 - val_loss: 1.3504 - val_accuracy: 0.6380\n",
      "Epoch 15/200\n",
      "219/219 [==============================] - 3s 15ms/step - loss: 0.5601 - accuracy: 0.8152 - val_loss: 0.8430 - val_accuracy: 0.7342\n",
      "Epoch 16/200\n",
      "219/219 [==============================] - 3s 15ms/step - loss: 0.5128 - accuracy: 0.8281 - val_loss: 0.9660 - val_accuracy: 0.7285\n",
      "Epoch 17/200\n",
      "219/219 [==============================] - 3s 14ms/step - loss: 0.5013 - accuracy: 0.8275 - val_loss: 1.2050 - val_accuracy: 0.6357\n",
      "Epoch 18/200\n",
      "219/219 [==============================] - 3s 14ms/step - loss: 0.5010 - accuracy: 0.8311 - val_loss: 1.2239 - val_accuracy: 0.6609\n",
      "Epoch 19/200\n",
      "219/219 [==============================] - 3s 15ms/step - loss: 0.4636 - accuracy: 0.8452 - val_loss: 0.5148 - val_accuracy: 0.8339\n",
      "Epoch 20/200\n",
      "219/219 [==============================] - 3s 14ms/step - loss: 0.4223 - accuracy: 0.8631 - val_loss: 0.5463 - val_accuracy: 0.8270\n",
      "Epoch 21/200\n",
      "219/219 [==============================] - 3s 15ms/step - loss: 0.4340 - accuracy: 0.8547 - val_loss: 0.8141 - val_accuracy: 0.7537\n",
      "Epoch 22/200\n",
      "219/219 [==============================] - 3s 14ms/step - loss: 0.4019 - accuracy: 0.8654 - val_loss: 0.5180 - val_accuracy: 0.8328\n",
      "Epoch 23/200\n",
      "219/219 [==============================] - 3s 15ms/step - loss: 0.3673 - accuracy: 0.8759 - val_loss: 0.9189 - val_accuracy: 0.7251\n",
      "Epoch 24/200\n",
      "219/219 [==============================] - 3s 15ms/step - loss: 0.3772 - accuracy: 0.8752 - val_loss: 0.6410 - val_accuracy: 0.8236\n",
      "Epoch 25/200\n",
      "219/219 [==============================] - 3s 14ms/step - loss: 0.3579 - accuracy: 0.8809 - val_loss: 0.8727 - val_accuracy: 0.7583\n",
      "Epoch 26/200\n",
      "219/219 [==============================] - 3s 14ms/step - loss: 0.3325 - accuracy: 0.8865 - val_loss: 0.6609 - val_accuracy: 0.7938\n",
      "Epoch 27/200\n",
      "219/219 [==============================] - 3s 14ms/step - loss: 0.3473 - accuracy: 0.8810 - val_loss: 0.8012 - val_accuracy: 0.7652\n",
      "Epoch 28/200\n",
      "219/219 [==============================] - 3s 15ms/step - loss: 0.3450 - accuracy: 0.8843 - val_loss: 0.5049 - val_accuracy: 0.8408\n",
      "Epoch 29/200\n",
      "219/219 [==============================] - 3s 14ms/step - loss: 0.2968 - accuracy: 0.9022 - val_loss: 0.6327 - val_accuracy: 0.8236\n",
      "Epoch 30/200\n",
      "219/219 [==============================] - 3s 15ms/step - loss: 0.3026 - accuracy: 0.8998 - val_loss: 1.0862 - val_accuracy: 0.7365\n",
      "Epoch 31/200\n",
      "219/219 [==============================] - 3s 15ms/step - loss: 0.2953 - accuracy: 0.8996 - val_loss: 0.6503 - val_accuracy: 0.8156\n",
      "Epoch 32/200\n",
      "219/219 [==============================] - 3s 14ms/step - loss: 0.2981 - accuracy: 0.9016 - val_loss: 0.8572 - val_accuracy: 0.7617\n",
      "Epoch 33/200\n",
      "219/219 [==============================] - 3s 14ms/step - loss: 0.2715 - accuracy: 0.9049 - val_loss: 1.0478 - val_accuracy: 0.7262\n",
      "Epoch 34/200\n",
      "219/219 [==============================] - 3s 14ms/step - loss: 0.2721 - accuracy: 0.9089 - val_loss: 0.5184 - val_accuracy: 0.8465\n",
      "Epoch 35/200\n",
      "219/219 [==============================] - 3s 15ms/step - loss: 0.2639 - accuracy: 0.9120 - val_loss: 0.9150 - val_accuracy: 0.7583\n",
      "Epoch 36/200\n",
      "219/219 [==============================] - 3s 14ms/step - loss: 0.2493 - accuracy: 0.9162 - val_loss: 0.7530 - val_accuracy: 0.7835\n",
      "Epoch 37/200\n",
      "219/219 [==============================] - 3s 15ms/step - loss: 0.2478 - accuracy: 0.9148 - val_loss: 0.8287 - val_accuracy: 0.7961\n",
      "Epoch 38/200\n",
      "219/219 [==============================] - 3s 15ms/step - loss: 0.2396 - accuracy: 0.9215 - val_loss: 0.5599 - val_accuracy: 0.8396\n",
      "Epoch 39/200\n",
      "219/219 [==============================] - 3s 14ms/step - loss: 0.2368 - accuracy: 0.9214 - val_loss: 0.9492 - val_accuracy: 0.7434\n",
      "Epoch 40/200\n",
      "219/219 [==============================] - 3s 14ms/step - loss: 0.2369 - accuracy: 0.9173 - val_loss: 1.0564 - val_accuracy: 0.7365\n",
      "Epoch 41/200\n",
      "219/219 [==============================] - 3s 15ms/step - loss: 0.2216 - accuracy: 0.9281 - val_loss: 0.5243 - val_accuracy: 0.8499\n",
      "Epoch 42/200\n",
      "219/219 [==============================] - 3s 14ms/step - loss: 0.2317 - accuracy: 0.9228 - val_loss: 0.9266 - val_accuracy: 0.7824\n",
      "Epoch 43/200\n",
      "219/219 [==============================] - 3s 14ms/step - loss: 0.2196 - accuracy: 0.9274 - val_loss: 1.1126 - val_accuracy: 0.7354\n",
      "Epoch 44/200\n",
      "219/219 [==============================] - 3s 14ms/step - loss: 0.1889 - accuracy: 0.9359 - val_loss: 0.6148 - val_accuracy: 0.8247\n",
      "Epoch 45/200\n",
      "219/219 [==============================] - 3s 14ms/step - loss: 0.1883 - accuracy: 0.9393 - val_loss: 0.9906 - val_accuracy: 0.7560\n",
      "Epoch 46/200\n",
      "219/219 [==============================] - 3s 15ms/step - loss: 0.1864 - accuracy: 0.9344 - val_loss: 1.9590 - val_accuracy: 0.6735\n",
      "Epoch 47/200\n",
      "219/219 [==============================] - 3s 15ms/step - loss: 0.2060 - accuracy: 0.9298 - val_loss: 1.2723 - val_accuracy: 0.6953\n",
      "Epoch 48/200\n",
      "219/219 [==============================] - 3s 15ms/step - loss: 0.2408 - accuracy: 0.9184 - val_loss: 0.6118 - val_accuracy: 0.8282\n",
      "Epoch 49/200\n",
      "219/219 [==============================] - 3s 14ms/step - loss: 0.1993 - accuracy: 0.9324 - val_loss: 0.6060 - val_accuracy: 0.8247\n",
      "Epoch 50/200\n",
      "219/219 [==============================] - 3s 15ms/step - loss: 0.1739 - accuracy: 0.9432 - val_loss: 0.8604 - val_accuracy: 0.7892\n",
      "Epoch 51/200\n",
      "219/219 [==============================] - 3s 14ms/step - loss: 0.1564 - accuracy: 0.9460 - val_loss: 1.1419 - val_accuracy: 0.7136\n",
      "Epoch 52/200\n",
      "219/219 [==============================] - 3s 14ms/step - loss: 0.1703 - accuracy: 0.9424 - val_loss: 0.7334 - val_accuracy: 0.8018\n",
      "Epoch 53/200\n",
      "219/219 [==============================] - 3s 15ms/step - loss: 0.1769 - accuracy: 0.9407 - val_loss: 0.9508 - val_accuracy: 0.7617\n",
      "Epoch 54/200\n",
      "219/219 [==============================] - 3s 15ms/step - loss: 0.1628 - accuracy: 0.9465 - val_loss: 0.9064 - val_accuracy: 0.7663\n",
      "Epoch 55/200\n",
      "219/219 [==============================] - 3s 14ms/step - loss: 0.1722 - accuracy: 0.9433 - val_loss: 1.1154 - val_accuracy: 0.7205\n",
      "Epoch 56/200\n",
      "219/219 [==============================] - 3s 14ms/step - loss: 0.1667 - accuracy: 0.9475 - val_loss: 1.1267 - val_accuracy: 0.7388\n",
      "Epoch 57/200\n",
      "219/219 [==============================] - 3s 14ms/step - loss: 0.1515 - accuracy: 0.9479 - val_loss: 0.7783 - val_accuracy: 0.8099\n",
      "Epoch 58/200\n",
      "219/219 [==============================] - 3s 14ms/step - loss: 0.1549 - accuracy: 0.9457 - val_loss: 1.6824 - val_accuracy: 0.7056\n",
      "Epoch 59/200\n",
      "219/219 [==============================] - 3s 14ms/step - loss: 0.1367 - accuracy: 0.9532 - val_loss: 0.5840 - val_accuracy: 0.8614\n",
      "Epoch 60/200\n",
      "219/219 [==============================] - 3s 14ms/step - loss: 0.1544 - accuracy: 0.9462 - val_loss: 0.9312 - val_accuracy: 0.7824\n",
      "Epoch 61/200\n",
      "219/219 [==============================] - 3s 14ms/step - loss: 0.1586 - accuracy: 0.9449 - val_loss: 1.2451 - val_accuracy: 0.7022\n",
      "Epoch 62/200\n",
      "219/219 [==============================] - 3s 14ms/step - loss: 0.1524 - accuracy: 0.9480 - val_loss: 0.6100 - val_accuracy: 0.8580\n",
      "Epoch 63/200\n",
      "219/219 [==============================] - 3s 14ms/step - loss: 0.1652 - accuracy: 0.9437 - val_loss: 0.8998 - val_accuracy: 0.7743\n",
      "Epoch 64/200\n",
      "219/219 [==============================] - 3s 14ms/step - loss: 0.1278 - accuracy: 0.9572 - val_loss: 0.7566 - val_accuracy: 0.8282\n",
      "Epoch 65/200\n",
      "219/219 [==============================] - 3s 15ms/step - loss: 0.1486 - accuracy: 0.9499 - val_loss: 0.7902 - val_accuracy: 0.8247\n",
      "Epoch 66/200\n",
      "219/219 [==============================] - 3s 14ms/step - loss: 0.1300 - accuracy: 0.9558 - val_loss: 0.6601 - val_accuracy: 0.8431\n",
      "Epoch 67/200\n",
      "219/219 [==============================] - 3s 14ms/step - loss: 0.1487 - accuracy: 0.9496 - val_loss: 0.6128 - val_accuracy: 0.8545\n",
      "Epoch 68/200\n",
      "219/219 [==============================] - 3s 14ms/step - loss: 0.1555 - accuracy: 0.9496 - val_loss: 1.6031 - val_accuracy: 0.6380\n",
      "Epoch 69/200\n",
      "219/219 [==============================] - 3s 14ms/step - loss: 0.1323 - accuracy: 0.9540 - val_loss: 0.6756 - val_accuracy: 0.8373\n",
      "Epoch 70/200\n",
      "219/219 [==============================] - 3s 15ms/step - loss: 0.1244 - accuracy: 0.9569 - val_loss: 0.8636 - val_accuracy: 0.8133\n",
      "Epoch 71/200\n",
      "219/219 [==============================] - 3s 14ms/step - loss: 0.1330 - accuracy: 0.9556 - val_loss: 0.7085 - val_accuracy: 0.8408\n",
      "Epoch 72/200\n",
      "219/219 [==============================] - 3s 14ms/step - loss: 0.1331 - accuracy: 0.9559 - val_loss: 1.2141 - val_accuracy: 0.7526\n",
      "Epoch 73/200\n",
      "219/219 [==============================] - 3s 14ms/step - loss: 0.1382 - accuracy: 0.9528 - val_loss: 1.2659 - val_accuracy: 0.7125\n",
      "Epoch 74/200\n",
      "219/219 [==============================] - 3s 14ms/step - loss: 0.1261 - accuracy: 0.9578 - val_loss: 0.7380 - val_accuracy: 0.8316\n",
      "Epoch 75/200\n",
      "219/219 [==============================] - 3s 15ms/step - loss: 0.1273 - accuracy: 0.9553 - val_loss: 0.6503 - val_accuracy: 0.8511\n",
      "Epoch 76/200\n",
      "219/219 [==============================] - 3s 14ms/step - loss: 0.1582 - accuracy: 0.9467 - val_loss: 0.7537 - val_accuracy: 0.8282\n",
      "Epoch 77/200\n",
      "219/219 [==============================] - 3s 14ms/step - loss: 0.1254 - accuracy: 0.9563 - val_loss: 0.8114 - val_accuracy: 0.8099\n",
      "Epoch 78/200\n",
      "219/219 [==============================] - 3s 14ms/step - loss: 0.1252 - accuracy: 0.9565 - val_loss: 0.8048 - val_accuracy: 0.7950\n",
      "Epoch 79/200\n",
      "219/219 [==============================] - 3s 15ms/step - loss: 0.1115 - accuracy: 0.9625 - val_loss: 0.8505 - val_accuracy: 0.8007\n",
      "Epoch 80/200\n",
      "219/219 [==============================] - 3s 14ms/step - loss: 0.1329 - accuracy: 0.9543 - val_loss: 0.6664 - val_accuracy: 0.8396\n",
      "Epoch 81/200\n",
      "219/219 [==============================] - 3s 15ms/step - loss: 0.1287 - accuracy: 0.9550 - val_loss: 1.2112 - val_accuracy: 0.7514\n",
      "Epoch 82/200\n",
      "219/219 [==============================] - 3s 14ms/step - loss: 0.1241 - accuracy: 0.9569 - val_loss: 0.7449 - val_accuracy: 0.8442\n",
      "Epoch 83/200\n",
      "219/219 [==============================] - 3s 14ms/step - loss: 0.1266 - accuracy: 0.9576 - val_loss: 0.8348 - val_accuracy: 0.8110\n",
      "Epoch 84/200\n",
      "219/219 [==============================] - 3s 15ms/step - loss: 0.1219 - accuracy: 0.9579 - val_loss: 0.6781 - val_accuracy: 0.8522\n",
      "Epoch 85/200\n",
      "219/219 [==============================] - 3s 14ms/step - loss: 0.1044 - accuracy: 0.9659 - val_loss: 0.9269 - val_accuracy: 0.7927\n",
      "Epoch 86/200\n",
      "219/219 [==============================] - 3s 14ms/step - loss: 0.1036 - accuracy: 0.9629 - val_loss: 0.8117 - val_accuracy: 0.8293\n",
      "Epoch 87/200\n",
      "219/219 [==============================] - 3s 15ms/step - loss: 0.1085 - accuracy: 0.9598 - val_loss: 0.8826 - val_accuracy: 0.8167\n",
      "Epoch 88/200\n",
      "219/219 [==============================] - 3s 15ms/step - loss: 0.1131 - accuracy: 0.9609 - val_loss: 0.9171 - val_accuracy: 0.8087\n",
      "Epoch 89/200\n",
      "219/219 [==============================] - 3s 14ms/step - loss: 0.1124 - accuracy: 0.9625 - val_loss: 0.7871 - val_accuracy: 0.8305\n",
      "Epoch 90/200\n",
      "219/219 [==============================] - 3s 15ms/step - loss: 0.1054 - accuracy: 0.9632 - val_loss: 0.7235 - val_accuracy: 0.8396\n",
      "Epoch 91/200\n",
      "219/219 [==============================] - 3s 15ms/step - loss: 0.1010 - accuracy: 0.9666 - val_loss: 0.9926 - val_accuracy: 0.7721\n",
      "Epoch 92/200\n",
      "219/219 [==============================] - 3s 15ms/step - loss: 0.1152 - accuracy: 0.9615 - val_loss: 1.0766 - val_accuracy: 0.7686\n",
      "Epoch 93/200\n",
      "219/219 [==============================] - 3s 14ms/step - loss: 0.1288 - accuracy: 0.9560 - val_loss: 0.9184 - val_accuracy: 0.8087\n",
      "Epoch 94/200\n",
      "219/219 [==============================] - 3s 14ms/step - loss: 0.1079 - accuracy: 0.9644 - val_loss: 0.6870 - val_accuracy: 0.8522\n",
      "Epoch 95/200\n",
      "219/219 [==============================] - 3s 14ms/step - loss: 0.1047 - accuracy: 0.9641 - val_loss: 2.3737 - val_accuracy: 0.6758\n",
      "Epoch 96/200\n",
      "219/219 [==============================] - 3s 15ms/step - loss: 0.1002 - accuracy: 0.9682 - val_loss: 0.6806 - val_accuracy: 0.8408\n",
      "Epoch 97/200\n",
      "219/219 [==============================] - 3s 14ms/step - loss: 0.1101 - accuracy: 0.9639 - val_loss: 0.9841 - val_accuracy: 0.7824\n",
      "Epoch 98/200\n",
      "219/219 [==============================] - 3s 15ms/step - loss: 0.1028 - accuracy: 0.9656 - val_loss: 1.4024 - val_accuracy: 0.7526\n",
      "Epoch 99/200\n",
      "219/219 [==============================] - 3s 14ms/step - loss: 0.0987 - accuracy: 0.9676 - val_loss: 0.8991 - val_accuracy: 0.8121\n",
      "Epoch 100/200\n",
      "219/219 [==============================] - 3s 14ms/step - loss: 0.0910 - accuracy: 0.9688 - val_loss: 0.7926 - val_accuracy: 0.8190\n",
      "Epoch 101/200\n",
      "219/219 [==============================] - 3s 15ms/step - loss: 0.0972 - accuracy: 0.9666 - val_loss: 0.7864 - val_accuracy: 0.8293\n",
      "Epoch 102/200\n",
      "219/219 [==============================] - 3s 15ms/step - loss: 0.1175 - accuracy: 0.9615 - val_loss: 2.1491 - val_accuracy: 0.6919\n",
      "Epoch 103/200\n",
      "219/219 [==============================] - 3s 14ms/step - loss: 0.1027 - accuracy: 0.9654 - val_loss: 0.8844 - val_accuracy: 0.8236\n",
      "Epoch 104/200\n",
      "219/219 [==============================] - 3s 14ms/step - loss: 0.0895 - accuracy: 0.9711 - val_loss: 0.8834 - val_accuracy: 0.8110\n",
      "Epoch 105/200\n",
      "219/219 [==============================] - 3s 14ms/step - loss: 0.0768 - accuracy: 0.9744 - val_loss: 1.1284 - val_accuracy: 0.7892\n",
      "Epoch 106/200\n",
      "219/219 [==============================] - 3s 14ms/step - loss: 0.0868 - accuracy: 0.9699 - val_loss: 0.8102 - val_accuracy: 0.8351\n",
      "Epoch 107/200\n",
      "219/219 [==============================] - 3s 15ms/step - loss: 0.0824 - accuracy: 0.9718 - val_loss: 0.8514 - val_accuracy: 0.8385\n",
      "Epoch 108/200\n",
      "219/219 [==============================] - 3s 14ms/step - loss: 0.0962 - accuracy: 0.9696 - val_loss: 1.2515 - val_accuracy: 0.7503\n",
      "Epoch 109/200\n",
      "219/219 [==============================] - 3s 14ms/step - loss: 0.0844 - accuracy: 0.9702 - val_loss: 1.0597 - val_accuracy: 0.7904\n",
      "Epoch 110/200\n",
      "219/219 [==============================] - 3s 14ms/step - loss: 0.1148 - accuracy: 0.9625 - val_loss: 1.0978 - val_accuracy: 0.7709\n",
      "Epoch 111/200\n",
      "219/219 [==============================] - 3s 14ms/step - loss: 0.1101 - accuracy: 0.9636 - val_loss: 0.8270 - val_accuracy: 0.8339\n",
      "Epoch 112/200\n",
      "219/219 [==============================] - 3s 14ms/step - loss: 0.1151 - accuracy: 0.9606 - val_loss: 0.8527 - val_accuracy: 0.8270\n",
      "Epoch 113/200\n",
      "219/219 [==============================] - 3s 15ms/step - loss: 0.0851 - accuracy: 0.9718 - val_loss: 1.0379 - val_accuracy: 0.8007\n",
      "Epoch 114/200\n",
      "219/219 [==============================] - 3s 15ms/step - loss: 0.0772 - accuracy: 0.9712 - val_loss: 0.8511 - val_accuracy: 0.8293\n",
      "Epoch 115/200\n",
      "219/219 [==============================] - 3s 14ms/step - loss: 0.0853 - accuracy: 0.9707 - val_loss: 1.2428 - val_accuracy: 0.7595\n",
      "Epoch 116/200\n",
      "219/219 [==============================] - 3s 14ms/step - loss: 0.0898 - accuracy: 0.9727 - val_loss: 0.8416 - val_accuracy: 0.8293\n",
      "Epoch 117/200\n",
      "219/219 [==============================] - 3s 15ms/step - loss: 0.0769 - accuracy: 0.9742 - val_loss: 0.8978 - val_accuracy: 0.8373\n",
      "Epoch 118/200\n",
      "219/219 [==============================] - 3s 14ms/step - loss: 0.0832 - accuracy: 0.9721 - val_loss: 0.9547 - val_accuracy: 0.8110\n",
      "Epoch 119/200\n",
      "219/219 [==============================] - 3s 14ms/step - loss: 0.0986 - accuracy: 0.9665 - val_loss: 1.2292 - val_accuracy: 0.7835\n",
      "Epoch 120/200\n",
      "219/219 [==============================] - 3s 15ms/step - loss: 0.0968 - accuracy: 0.9674 - val_loss: 0.9066 - val_accuracy: 0.8236\n",
      "Epoch 121/200\n",
      "219/219 [==============================] - 3s 15ms/step - loss: 0.0986 - accuracy: 0.9679 - val_loss: 0.7378 - val_accuracy: 0.8557\n",
      "Epoch 122/200\n",
      "219/219 [==============================] - 3s 14ms/step - loss: 0.1226 - accuracy: 0.9609 - val_loss: 0.7604 - val_accuracy: 0.8351\n",
      "Epoch 123/200\n",
      "219/219 [==============================] - 3s 14ms/step - loss: 0.0761 - accuracy: 0.9752 - val_loss: 0.9864 - val_accuracy: 0.8007\n",
      "Epoch 124/200\n",
      "219/219 [==============================] - 3s 14ms/step - loss: 0.0833 - accuracy: 0.9732 - val_loss: 0.7576 - val_accuracy: 0.8488\n",
      "Epoch 125/200\n",
      "219/219 [==============================] - 3s 14ms/step - loss: 0.0865 - accuracy: 0.9712 - val_loss: 1.8784 - val_accuracy: 0.6976\n",
      "Epoch 126/200\n",
      "219/219 [==============================] - 3s 14ms/step - loss: 0.0699 - accuracy: 0.9778 - val_loss: 0.8776 - val_accuracy: 0.8064\n",
      "Epoch 127/200\n",
      "219/219 [==============================] - 3s 15ms/step - loss: 0.0847 - accuracy: 0.9715 - val_loss: 0.9688 - val_accuracy: 0.8133\n",
      "Epoch 128/200\n",
      "219/219 [==============================] - 3s 15ms/step - loss: 0.0771 - accuracy: 0.9727 - val_loss: 0.7717 - val_accuracy: 0.8454\n",
      "Epoch 129/200\n",
      "219/219 [==============================] - 3s 14ms/step - loss: 0.0707 - accuracy: 0.9767 - val_loss: 0.6831 - val_accuracy: 0.8683\n",
      "Epoch 130/200\n",
      "219/219 [==============================] - 3s 14ms/step - loss: 0.0807 - accuracy: 0.9727 - val_loss: 0.9779 - val_accuracy: 0.8282\n",
      "Epoch 131/200\n",
      "219/219 [==============================] - 3s 14ms/step - loss: 0.0706 - accuracy: 0.9759 - val_loss: 0.7331 - val_accuracy: 0.8580\n",
      "Epoch 132/200\n",
      "219/219 [==============================] - 3s 14ms/step - loss: 0.0640 - accuracy: 0.9787 - val_loss: 0.7292 - val_accuracy: 0.8545\n",
      "Epoch 133/200\n",
      "219/219 [==============================] - 3s 14ms/step - loss: 0.0812 - accuracy: 0.9734 - val_loss: 1.1186 - val_accuracy: 0.7812\n",
      "Epoch 134/200\n",
      "219/219 [==============================] - 3s 14ms/step - loss: 0.0800 - accuracy: 0.9721 - val_loss: 0.7893 - val_accuracy: 0.8362\n",
      "Epoch 135/200\n",
      "219/219 [==============================] - 3s 14ms/step - loss: 0.0771 - accuracy: 0.9737 - val_loss: 0.7376 - val_accuracy: 0.8591\n",
      "Epoch 136/200\n",
      "219/219 [==============================] - 3s 15ms/step - loss: 0.0998 - accuracy: 0.9665 - val_loss: 1.2881 - val_accuracy: 0.7663\n",
      "Epoch 137/200\n",
      "219/219 [==============================] - 3s 15ms/step - loss: 0.0722 - accuracy: 0.9758 - val_loss: 0.8237 - val_accuracy: 0.8202\n",
      "Epoch 138/200\n",
      "219/219 [==============================] - 3s 14ms/step - loss: 0.0812 - accuracy: 0.9737 - val_loss: 0.7767 - val_accuracy: 0.8488\n",
      "Epoch 139/200\n",
      "219/219 [==============================] - 3s 14ms/step - loss: 0.0705 - accuracy: 0.9770 - val_loss: 1.2276 - val_accuracy: 0.7961\n",
      "Epoch 140/200\n",
      "219/219 [==============================] - 3s 14ms/step - loss: 0.0707 - accuracy: 0.9741 - val_loss: 0.7046 - val_accuracy: 0.8603\n",
      "Epoch 141/200\n",
      "219/219 [==============================] - 3s 15ms/step - loss: 0.0629 - accuracy: 0.9790 - val_loss: 0.8733 - val_accuracy: 0.8282\n",
      "Epoch 142/200\n",
      "219/219 [==============================] - 3s 14ms/step - loss: 0.0753 - accuracy: 0.9748 - val_loss: 0.8081 - val_accuracy: 0.8419\n",
      "Epoch 143/200\n",
      "219/219 [==============================] - 3s 15ms/step - loss: 0.0622 - accuracy: 0.9802 - val_loss: 0.7949 - val_accuracy: 0.8442\n",
      "Epoch 144/200\n",
      "219/219 [==============================] - 3s 14ms/step - loss: 0.0588 - accuracy: 0.9810 - val_loss: 1.2907 - val_accuracy: 0.7629\n",
      "Epoch 145/200\n",
      "219/219 [==============================] - 3s 14ms/step - loss: 0.0631 - accuracy: 0.9805 - val_loss: 0.8494 - val_accuracy: 0.8454\n",
      "Epoch 146/200\n",
      "219/219 [==============================] - 3s 15ms/step - loss: 0.0870 - accuracy: 0.9701 - val_loss: 0.8300 - val_accuracy: 0.8511\n",
      "Epoch 147/200\n",
      "219/219 [==============================] - 5s 21ms/step - loss: 0.0659 - accuracy: 0.9775 - val_loss: 0.7354 - val_accuracy: 0.8557\n",
      "Epoch 148/200\n",
      "219/219 [==============================] - 4s 17ms/step - loss: 0.0668 - accuracy: 0.9787 - val_loss: 0.8695 - val_accuracy: 0.8408\n",
      "Epoch 149/200\n",
      "219/219 [==============================] - 3s 15ms/step - loss: 0.0712 - accuracy: 0.9755 - val_loss: 1.7110 - val_accuracy: 0.7423\n",
      "Epoch 150/200\n",
      "219/219 [==============================] - 3s 14ms/step - loss: 0.0787 - accuracy: 0.9751 - val_loss: 0.9426 - val_accuracy: 0.8179\n",
      "Epoch 151/200\n",
      "219/219 [==============================] - 3s 15ms/step - loss: 0.0859 - accuracy: 0.9708 - val_loss: 1.2146 - val_accuracy: 0.7617\n",
      "Epoch 152/200\n",
      "219/219 [==============================] - 3s 14ms/step - loss: 0.0820 - accuracy: 0.9727 - val_loss: 1.0622 - val_accuracy: 0.7950\n",
      "Epoch 153/200\n",
      "219/219 [==============================] - 3s 14ms/step - loss: 0.0760 - accuracy: 0.9761 - val_loss: 0.8436 - val_accuracy: 0.8465\n",
      "Epoch 154/200\n",
      "219/219 [==============================] - 3s 15ms/step - loss: 0.0795 - accuracy: 0.9739 - val_loss: 1.4099 - val_accuracy: 0.7789\n",
      "Epoch 155/200\n",
      "219/219 [==============================] - 3s 14ms/step - loss: 0.0654 - accuracy: 0.9767 - val_loss: 0.9250 - val_accuracy: 0.8339\n",
      "Epoch 156/200\n",
      "219/219 [==============================] - 3s 15ms/step - loss: 0.0846 - accuracy: 0.9734 - val_loss: 0.7830 - val_accuracy: 0.8465\n",
      "Epoch 157/200\n",
      "219/219 [==============================] - 3s 15ms/step - loss: 0.0827 - accuracy: 0.9749 - val_loss: 0.8901 - val_accuracy: 0.8362\n",
      "Epoch 158/200\n",
      "219/219 [==============================] - 3s 14ms/step - loss: 0.0787 - accuracy: 0.9712 - val_loss: 1.1871 - val_accuracy: 0.7915\n",
      "Epoch 159/200\n",
      "219/219 [==============================] - 3s 14ms/step - loss: 0.0782 - accuracy: 0.9749 - val_loss: 0.7739 - val_accuracy: 0.8568\n",
      "Epoch 160/200\n",
      "219/219 [==============================] - 3s 15ms/step - loss: 0.0766 - accuracy: 0.9728 - val_loss: 0.9745 - val_accuracy: 0.8053\n",
      "Epoch 161/200\n",
      "219/219 [==============================] - 3s 14ms/step - loss: 0.0625 - accuracy: 0.9802 - val_loss: 1.0544 - val_accuracy: 0.8087\n",
      "Epoch 162/200\n",
      "219/219 [==============================] - 3s 14ms/step - loss: 0.0592 - accuracy: 0.9808 - val_loss: 0.9104 - val_accuracy: 0.8190\n",
      "Epoch 163/200\n",
      "219/219 [==============================] - 3s 14ms/step - loss: 0.0731 - accuracy: 0.9765 - val_loss: 0.8968 - val_accuracy: 0.8259\n",
      "Epoch 164/200\n",
      "219/219 [==============================] - 3s 15ms/step - loss: 0.0779 - accuracy: 0.9722 - val_loss: 0.7408 - val_accuracy: 0.8511\n",
      "Epoch 165/200\n",
      "219/219 [==============================] - 3s 14ms/step - loss: 0.0627 - accuracy: 0.9791 - val_loss: 0.9032 - val_accuracy: 0.8316\n",
      "Epoch 166/200\n",
      "219/219 [==============================] - 3s 16ms/step - loss: 0.0799 - accuracy: 0.9735 - val_loss: 0.7451 - val_accuracy: 0.8511\n",
      "Epoch 167/200\n",
      "219/219 [==============================] - 3s 16ms/step - loss: 0.0652 - accuracy: 0.9777 - val_loss: 0.7706 - val_accuracy: 0.8328\n",
      "Epoch 168/200\n",
      "219/219 [==============================] - 3s 15ms/step - loss: 0.0832 - accuracy: 0.9718 - val_loss: 1.1295 - val_accuracy: 0.7938\n",
      "Epoch 169/200\n",
      "219/219 [==============================] - 3s 14ms/step - loss: 0.0683 - accuracy: 0.9777 - val_loss: 0.8938 - val_accuracy: 0.8351\n",
      "Epoch 170/200\n",
      "219/219 [==============================] - 3s 14ms/step - loss: 0.0623 - accuracy: 0.9791 - val_loss: 0.7893 - val_accuracy: 0.8408\n",
      "Epoch 171/200\n",
      "219/219 [==============================] - 3s 14ms/step - loss: 0.0635 - accuracy: 0.9795 - val_loss: 1.8370 - val_accuracy: 0.7514\n",
      "Epoch 172/200\n",
      "219/219 [==============================] - 3s 14ms/step - loss: 0.0651 - accuracy: 0.9791 - val_loss: 1.1724 - val_accuracy: 0.7961\n",
      "Epoch 173/200\n",
      "219/219 [==============================] - 3s 14ms/step - loss: 0.0912 - accuracy: 0.9717 - val_loss: 0.8654 - val_accuracy: 0.8282\n",
      "Epoch 174/200\n",
      "219/219 [==============================] - 3s 14ms/step - loss: 0.0702 - accuracy: 0.9770 - val_loss: 0.8685 - val_accuracy: 0.8362\n",
      "Epoch 175/200\n",
      "219/219 [==============================] - 3s 14ms/step - loss: 0.0577 - accuracy: 0.9797 - val_loss: 0.8533 - val_accuracy: 0.8454\n",
      "Epoch 176/200\n",
      "219/219 [==============================] - 3s 14ms/step - loss: 0.0609 - accuracy: 0.9794 - val_loss: 0.9738 - val_accuracy: 0.8133\n",
      "Epoch 177/200\n",
      "219/219 [==============================] - 3s 15ms/step - loss: 0.0591 - accuracy: 0.9791 - val_loss: 0.9750 - val_accuracy: 0.8236\n",
      "Epoch 178/200\n",
      "219/219 [==============================] - 3s 15ms/step - loss: 0.0608 - accuracy: 0.9784 - val_loss: 0.8456 - val_accuracy: 0.8328\n",
      "Epoch 179/200\n",
      "219/219 [==============================] - 3s 15ms/step - loss: 0.0541 - accuracy: 0.9834 - val_loss: 0.7462 - val_accuracy: 0.8557\n",
      "Epoch 180/200\n",
      "219/219 [==============================] - 3s 14ms/step - loss: 0.0791 - accuracy: 0.9747 - val_loss: 0.7664 - val_accuracy: 0.8465\n",
      "Epoch 181/200\n",
      "219/219 [==============================] - 3s 14ms/step - loss: 0.0641 - accuracy: 0.9785 - val_loss: 0.8147 - val_accuracy: 0.8465\n",
      "Epoch 182/200\n",
      "219/219 [==============================] - 3s 15ms/step - loss: 0.0540 - accuracy: 0.9805 - val_loss: 0.7879 - val_accuracy: 0.8557\n",
      "Epoch 183/200\n",
      "219/219 [==============================] - 3s 15ms/step - loss: 0.0544 - accuracy: 0.9834 - val_loss: 0.7591 - val_accuracy: 0.8545\n",
      "Epoch 184/200\n",
      "219/219 [==============================] - 3s 15ms/step - loss: 0.0650 - accuracy: 0.9762 - val_loss: 1.8313 - val_accuracy: 0.7342\n",
      "Epoch 185/200\n",
      "219/219 [==============================] - 3s 14ms/step - loss: 0.0751 - accuracy: 0.9742 - val_loss: 0.9147 - val_accuracy: 0.8351\n",
      "Epoch 186/200\n",
      "219/219 [==============================] - 3s 14ms/step - loss: 0.0659 - accuracy: 0.9782 - val_loss: 0.8097 - val_accuracy: 0.8408\n",
      "Epoch 187/200\n",
      "219/219 [==============================] - 3s 14ms/step - loss: 0.0620 - accuracy: 0.9781 - val_loss: 0.9525 - val_accuracy: 0.8293\n",
      "Epoch 188/200\n",
      "219/219 [==============================] - 3s 14ms/step - loss: 0.0536 - accuracy: 0.9814 - val_loss: 1.7255 - val_accuracy: 0.7377\n",
      "Epoch 189/200\n",
      "219/219 [==============================] - 3s 15ms/step - loss: 0.0460 - accuracy: 0.9838 - val_loss: 1.0595 - val_accuracy: 0.7995\n",
      "Epoch 190/200\n",
      "219/219 [==============================] - 3s 15ms/step - loss: 0.0645 - accuracy: 0.9798 - val_loss: 1.0733 - val_accuracy: 0.8030\n",
      "Epoch 191/200\n",
      "219/219 [==============================] - 3s 15ms/step - loss: 0.0657 - accuracy: 0.9785 - val_loss: 0.8472 - val_accuracy: 0.8339\n",
      "Epoch 192/200\n",
      "219/219 [==============================] - 3s 14ms/step - loss: 0.0528 - accuracy: 0.9837 - val_loss: 0.8039 - val_accuracy: 0.8557\n",
      "Epoch 193/200\n",
      "219/219 [==============================] - 3s 14ms/step - loss: 0.0510 - accuracy: 0.9831 - val_loss: 0.7883 - val_accuracy: 0.8431\n",
      "Epoch 194/200\n",
      "219/219 [==============================] - 3s 15ms/step - loss: 0.0826 - accuracy: 0.9722 - val_loss: 1.1051 - val_accuracy: 0.8041\n",
      "Epoch 195/200\n",
      "219/219 [==============================] - 3s 15ms/step - loss: 0.0631 - accuracy: 0.9788 - val_loss: 0.8679 - val_accuracy: 0.8225\n",
      "Epoch 196/200\n",
      "219/219 [==============================] - 3s 14ms/step - loss: 0.0616 - accuracy: 0.9795 - val_loss: 1.2997 - val_accuracy: 0.7812\n",
      "Epoch 197/200\n",
      "219/219 [==============================] - 3s 15ms/step - loss: 0.0567 - accuracy: 0.9801 - val_loss: 0.7676 - val_accuracy: 0.8545\n",
      "Epoch 198/200\n",
      "219/219 [==============================] - 3s 14ms/step - loss: 0.0700 - accuracy: 0.9775 - val_loss: 0.8932 - val_accuracy: 0.8499\n",
      "Epoch 199/200\n",
      "219/219 [==============================] - 3s 15ms/step - loss: 0.0494 - accuracy: 0.9831 - val_loss: 0.8777 - val_accuracy: 0.8408\n",
      "Epoch 200/200\n",
      "219/219 [==============================] - 3s 15ms/step - loss: 0.0497 - accuracy: 0.9841 - val_loss: 0.8759 - val_accuracy: 0.8259\n"
     ]
    }
   ],
   "source": [
    "# Train the model for 200 epochs\n",
    "history=model.fit(X_train , y_train,epochs=200,validation_data = (X_val , y_val))"
   ]
  },
  {
   "cell_type": "code",
   "execution_count": 11,
   "metadata": {
    "colab": {
     "base_uri": "https://localhost:8080/",
     "height": 279
    },
    "id": "6hjjHd_m5Isl",
    "outputId": "697c8727-32ed-44d0-eea9-975250bb34b9"
   },
   "outputs": [
    {
     "data": {
      "image/png": "[encoded data removed]",
      "text/plain": [
       "<Figure size 432x288 with 1 Axes>"
      ]
     },
     "metadata": {
      "needs_background": "light"
     },
     "output_type": "display_data"
    }
   ],
   "source": [
    "import matplotlib.pyplot as plt\n",
    "# Plot the training loss\n",
    "plt.plot(history.history[\"loss\"],label = \"loss\")\n",
    "\n",
    "# Plot the validation loss\n",
    "plt.plot(history.history[\"val_loss\"],label = \"val_loss\")\n",
    "\n",
    "# Name the x and y axises\n",
    "plt.xlabel(\"Epoch\")\n",
    "plt.ylabel(\"Loss\")\n",
    "\n",
    "# Put legend table\n",
    "plt.legend()\n",
    "\n",
    "# Show the plot\n",
    "plt.show()"
   ]
  },
  {
   "cell_type": "code",
   "execution_count": 12,
   "metadata": {
    "colab": {
     "base_uri": "https://localhost:8080/",
     "height": 279
    },
    "id": "sDmdOQqGbO-1",
    "outputId": "3fb5610b-f688-42af-8e82-3d6a1cb9bf99"
   },
   "outputs": [
    {
     "data": {
      "image/png": "[encoded data removed]",
      "text/plain": [
       "<Figure size 432x288 with 1 Axes>"
      ]
     },
     "metadata": {
      "needs_background": "light"
     },
     "output_type": "display_data"
    }
   ],
   "source": [
    "# Plot the training accuracy\n",
    "plt.plot(history.history[\"accuracy\"] , label=\"accuracy\")\n",
    "\n",
    "# Plot the validation accuracy\n",
    "plt.plot(history.history[\"val_accuracy\"] , label = \"val_accuracy\")\n",
    "\n",
    "# Name the x and y axises\n",
    "plt.xlabel(\"Epoch\")\n",
    "plt.ylabel(\"Accuracy\")\n",
    "# Put legend table\n",
    "plt.legend()\n",
    "\n",
    "# Show the plot\n",
    "plt.show()"
   ]
  },
  {
   "cell_type": "markdown",
   "metadata": {
    "id": "1Efn4l93bUVm"
   },
   "source": [
    "Performance evaluation"
   ]
  },
  {
   "cell_type": "code",
   "execution_count": 38,
   "metadata": {
    "colab": {
     "base_uri": "https://localhost:8080/"
    },
    "id": "SX6ahbDG5sdE",
    "outputId": "5f51bbc5-efff-42a8-8e73-42b1863b17a5"
   },
   "outputs": [
    {
     "name": "stdout",
     "output_type": "stream",
     "text": [
      "28/28 [==============================] - 0s 7ms/step - loss: 0.8357 - accuracy: 0.8330\n"
     ]
    },
    {
     "data": {
      "text/plain": [
       "[0.8356905579566956, 0.8329519629478455]"
      ]
     },
     "execution_count": 38,
     "metadata": {},
     "output_type": "execute_result"
    }
   ],
   "source": [
    "# Evaluate the performance\n",
    "model.evaluate(X_test , y_test)"
   ]
  },
  {
   "cell_type": "markdown",
   "metadata": {
    "id": "uRNz4hYgbZjz"
   },
   "source": [
    "Try a prediction"
   ]
  },
  {
   "cell_type": "code",
   "execution_count": 44,
   "metadata": {
    "colab": {
     "base_uri": "https://localhost:8080/",
     "height": 285
    },
    "id": "QFtmhsCkux_i",
    "outputId": "6c8ba67d-f6f3-40db-acc4-c01a926f64d2"
   },
   "outputs": [
    {
     "data": {
      "image/png": "[encoded data removed]",
      "text/plain": [
       "<Figure size 432x288 with 1 Axes>"
      ]
     },
     "metadata": {
      "needs_background": "light"
     },
     "output_type": "display_data"
    },
    {
     "name": "stdout",
     "output_type": "stream",
     "text": [
      "(100, 100, 1)\n"
     ]
    }
   ],
   "source": [
    "import tensorflow as tf\n",
    "# Use the .imshow() function and show the plot\n",
    "plt.imshow(( tf.squeeze(X_test[873]) ))\n",
    "\n",
    "plt.show()\n",
    "# Print the shape of the sample image\n",
    "print(X_test[873].shape)"
   ]
  },
  {
   "cell_type": "code",
   "execution_count": 45,
   "metadata": {
    "colab": {
     "base_uri": "https://localhost:8080/"
    },
    "id": "v9GrL3SCbZSl",
    "outputId": "e4746a1a-7c6d-4761-b7bc-fec3717645fd"
   },
   "outputs": [
    {
     "data": {
      "text/plain": [
       "array([[4.0810714e-12, 1.7277845e-15, 4.8564732e-14, 7.0391474e-07,\n",
       "        1.4188640e-15, 4.3075954e-15, 1.5674684e-12, 3.9301977e-15,\n",
       "        9.9999928e-01, 3.0160526e-13]], dtype=float32)"
      ]
     },
     "execution_count": 45,
     "metadata": {},
     "output_type": "execute_result"
    }
   ],
   "source": [
    "# Make prediction on the reshaped sample\n",
    "prediction_result = model.predict(X_test[873].reshape(1,100,100,1))\n",
    "\n",
    "# Print the prediction result\n",
    "prediction_result"
   ]
  },
  {
   "cell_type": "code",
   "execution_count": 46,
   "metadata": {
    "id": "hM0pDvGObfVR"
   },
   "outputs": [],
   "source": [
    "# Find the predicted class\n",
    "predicted_class = prediction_result.argmax()\n",
    "# Find the prediction probability\n",
    "predicted_probability = prediction_result.max()"
   ]
  },
  {
   "cell_type": "code",
   "execution_count": 48,
   "metadata": {
    "colab": {
     "base_uri": "https://localhost:8080/"
    },
    "id": "HgGmwMUCbhQ5",
    "outputId": "c4cb3652-f0cd-4627-abbe-91f06bad3912"
   },
   "outputs": [
    {
     "name": "stdout",
     "output_type": "stream",
     "text": [
      "This image belongs to class 8 with 0.9999992847442627 probability\n"
     ]
    }
   ],
   "source": [
    "# Print the results\n",
    "print(f\"This image belongs to class {predicted_class} with {predicted_probability} probability\")"
   ]
  }
 ],
 "metadata": {
  "accelerator": "GPU",
  "colab": {
   "collapsed_sections": [],
   "provenance": [],
   "toc_visible": true
  },
  "kernelspec": {
   "display_name": "Python 3 (ipykernel)",
   "language": "python",
   "name": "python3"
  },
  "language_info": {
   "codemirror_mode": {
    "name": "ipython",
    "version": 3
   },
   "file_extension": ".py",
   "mimetype": "text/x-python",
   "name": "python",
   "nbconvert_exporter": "python",
   "pygments_lexer": "ipython3",
   "version": "3.9.7"
  }
 },
 "nbformat": 4,
 "nbformat_minor": 1
}
