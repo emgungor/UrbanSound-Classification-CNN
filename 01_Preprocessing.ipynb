{
  "nbformat": 4,
  "nbformat_minor": 0,
  "metadata": {
    "colab": {
      "provenance": [],
      "collapsed_sections": []
    },
    "kernelspec": {
      "name": "python3",
      "display_name": "Python 3"
    },
    "language_info": {
      "name": "python"
    }
  },
  "cells": [
    {
      "cell_type": "code",
      "source": [
        "from google.colab import drive\n",
        "drive.mount('/content/drive')\n",
        "!pwd"
      ],
      "metadata": {
        "colab": {
          "base_uri": "https://localhost:8080/"
        },
        "id": "cfLf778LDXg1",
        "outputId": "82aa6674-c167-428d-853c-cc1994264d43"
      },
      "execution_count": 33,
      "outputs": [
        {
          "output_type": "stream",
          "name": "stdout",
          "text": [
            "Drive already mounted at /content/drive; to attempt to forcibly remount, call drive.mount(\"/content/drive\", force_remount=True).\n",
            "/content\n"
          ]
        }
      ]
    },
    {
      "cell_type": "code",
      "execution_count": 34,
      "metadata": {
        "colab": {
          "base_uri": "https://localhost:8080/"
        },
        "id": "YXnRrKGUmhjK",
        "outputId": "22e90225-133d-4bac-e456-b31770d1ddcc"
      },
      "outputs": [
        {
          "output_type": "stream",
          "name": "stdout",
          "text": [
            "['0', '1', '2', '3', '4', '5', '6', '7', '8', '9']\n",
            "[0, 1, 2, 3, 4, 5, 6, 7, 8, 9]\n",
            "{'0': 0, '1': 1, '2': 2, '3': 3, '4': 4, '5': 5, '6': 6, '7': 7, '8': 8, '9': 9}\n"
          ]
        }
      ],
      "source": [
        "# Preprocessing phase\n",
        "\n",
        "import os\n",
        "import cv2\n",
        "\n",
        "\n",
        "data_path=r'/content/drive/MyDrive/Colab_Notebooks/UrbanSound/spectrograms'\n",
        "\n",
        "categories=sorted(os.listdir(data_path))\n",
        "\n",
        "labels=[i for i in range(len(categories))]\n",
        "label_dict=dict(zip(categories,labels))\n",
        "\n",
        "print(categories)\n",
        "print(labels)\n",
        "print(label_dict)\n",
        "\n"
      ]
    },
    {
      "cell_type": "code",
      "source": [
        "# Grayscaling, resizing and normalization the datasets\n",
        "\n",
        "img_size=100\n",
        "data=[]\n",
        "target=[]\n",
        "from skimage import io\n",
        "for category in categories:\n",
        "    folder_path=os.path.join(data_path,category)\n",
        "    img_names=os.listdir(folder_path)        \n",
        "    for img_name in img_names:\n",
        "        img_path=os.path.join(folder_path,img_name)\n",
        "        img = io.imread(img_path)\n",
        "        try:\n",
        "            gray=cv2.cvtColor(img,cv2.COLOR_BGR2GRAY)           \n",
        "            resized=cv2.resize(gray,(img_size,img_size))\n",
        "            data.append(resized)\n",
        "            target.append(label_dict[category])\n",
        "        except Exception as e:\n",
        "            print('Exception:',e)\n",
        "            #throw errors"
      ],
      "metadata": {
        "id": "lFb-K090nCJY"
      },
      "execution_count": 35,
      "outputs": []
    },
    {
      "cell_type": "code",
      "source": [
        "import numpy as np\n",
        "import keras\n",
        "\n",
        "\n",
        "data=np.array(data)/255.0\n",
        "data=np.reshape(data,(data.shape[0],img_size,img_size,1))\n",
        "target=np.array(target)\n",
        "\n",
        "from keras.utils import np_utils\n",
        "new_target=np_utils.to_categorical(target)"
      ],
      "metadata": {
        "id": "YvjB8WYWo00G"
      },
      "execution_count": 36,
      "outputs": []
    },
    {
      "cell_type": "code",
      "source": [
        "from sklearn.model_selection import train_test_split\n",
        "\n",
        "\n",
        "X_train,X_temporary,y_train,y_temporary = train_test_split(data,new_target,test_size=0.2)\n",
        "\n",
        "X_val , X_test , y_val , y_test = train_test_split(X_temporary,y_temporary,test_size=0.5)"
      ],
      "metadata": {
        "id": "c70Y04CUo5XL"
      },
      "execution_count": 37,
      "outputs": []
    },
    {
      "cell_type": "code",
      "source": [
        "print(f'Length of the dataset : {len(data)}')\n",
        "print(f'Length of the training dataset : {len(X_train)}')\n",
        "print(f'Length of the validation dataset : {len(X_val)}')\n",
        "print(f'Length of the test dataset : {len(X_test)}')"
      ],
      "metadata": {
        "colab": {
          "base_uri": "https://localhost:8080/"
        },
        "id": "DHcDrxDqy2uU",
        "outputId": "f045e35d-5008-4596-f762-b7b859a5b370"
      },
      "execution_count": 38,
      "outputs": [
        {
          "output_type": "stream",
          "name": "stdout",
          "text": [
            "Length of the dataset : 8732\n",
            "Length of the training dataset : 6985\n",
            "Length of the validation dataset : 873\n",
            "Length of the test dataset : 874\n"
          ]
        }
      ]
    },
    {
      "cell_type": "code",
      "source": [
        "# Saving datasets\n",
        "\n",
        "np.save('/content/drive/MyDrive/Colab_Notebooks/UrbanSound/X_train.npy', X_train)\n",
        "np.save('/content/drive/MyDrive/Colab_Notebooks/UrbanSound/y_train.npy', y_train)\n",
        "np.save('/content/drive/MyDrive/Colab_Notebooks/UrbanSound/X_val.npy', X_val)\n",
        "np.save('/content/drive/MyDrive/Colab_Notebooks/UrbanSound/y_val.npy', y_val)\n",
        "np.save('/content/drive/MyDrive/Colab_Notebooks/UrbanSound/X_test.npy', X_test)\n",
        "np.save('/content/drive/MyDrive/Colab_Notebooks/UrbanSound/y_test.npy', y_test)\n"
      ],
      "metadata": {
        "id": "zay6t1BgzBQ_"
      },
      "execution_count": 39,
      "outputs": []
    }
  ]
}